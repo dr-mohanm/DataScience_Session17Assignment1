{
 "cells": [
  {
   "cell_type": "code",
   "execution_count": 1,
   "metadata": {
    "scrolled": true
   },
   "outputs": [
    {
     "name": "stdout",
     "output_type": "stream",
     "text": [
      "Z score of the sample is:  3.2\n",
      "P value for the z-score is:  0.9993128620620841\n",
      "\n",
      "Result: Reject the null hypothesis\n"
     ]
    }
   ],
   "source": [
    "# Problem Statement 1:\n",
    "# Blood glucose levels for obese patients have a mean of 100 with a standard deviation of 15. A researcher thinks that a diet \n",
    "# high in raw cornstarch will have a positive effect on blood glucose levels. A sample of 36 patients who have tried the raw \n",
    "# cornstarch diet have a mean glucose level of 108. Test the hypothesis that the raw cornstarch had an effect or not.\n",
    "\n",
    "import math\n",
    "import scipy.stats as st\n",
    "# Population Mean \n",
    "m = 100\n",
    "\n",
    "# Standard Deviation S\n",
    "s = 15\n",
    "\n",
    "# Sample Mean\n",
    "x = 108 \n",
    "\n",
    "# Sample Patients/size\n",
    "y = 36\n",
    "\n",
    "# z = (x - mean)/(standard deviation/sqrt(36))\n",
    "z = (108 - 100)/(15/math.sqrt(36))\n",
    "print('Z score of the sample is: ', z)\n",
    "\n",
    "pval = st.norm.cdf(z)\n",
    "print('P value for the z-score is: ', pval)\n",
    "\n",
    "if pval > 0.05: print('\\nResult: Reject the null hypothesis')\n",
    "else: print('\\nResult: Do not reject the null hypothesis')"
   ]
  },
  {
   "cell_type": "code",
   "execution_count": 2,
   "metadata": {},
   "outputs": [
    {
     "name": "stdout",
     "output_type": "stream",
     "text": [
      "Mean of the difference in proportions is: 0.050000000000000044\n",
      "Standard deviation of the sample distribution is:  0.07061869440877536\n",
      "\n",
      "Probability to get a greater percentage of Republican voters from the second state is:  0.23946399182220013\n"
     ]
    }
   ],
   "source": [
    "# Problem Statement 2:\n",
    "# In one state, 52% of the voters are Republicans, and 48% are Democrats. In a second state, 47% of the voters are Republicans, \n",
    "# and 53% are Democrats. Suppose a simple random sample of 100 voters are surveyed from each state. \n",
    "# What is the probability that the survey will show a greater percentage of Republican voters in the second state than in the \n",
    "# first state? \n",
    "\n",
    "# State 1 Republican Voters 52%\n",
    "P1 = 0.52\n",
    "# Stare 2 Republican Voters 48%\n",
    "P2 = 0.47\n",
    "\n",
    "# The number of voters sampled from both states n1 and n2 = 100, \n",
    "n1 = 100\n",
    "n2 = 100\n",
    "\n",
    "# Make sure the sample size is big enough to model differences with a normal population.\n",
    "n1P1 = n1 * P1\n",
    "\n",
    "# n1negP1 = n1(1 - P1)\n",
    "n1negP1 = n1 * (1 - P1)\n",
    "\n",
    "n2P2 = n2 * P2 \n",
    "\n",
    "#n2negP2 = n2(1 - P2)\n",
    "n2negP2 = n2 * (1 - P2)\n",
    "\n",
    "# Find the mean of the difference in sample proportions: E(p1 - p2) => Ep1p2 = P1 - P2 = 0.52 - 0.47 = 0.05. \n",
    "Ep1p2 = P1 - P2\n",
    "print('Mean of the difference in proportions is:' , Ep1p2)\n",
    "\n",
    "# Find the standard deviation of the difference\n",
    "stdValues = (P1 * (1 - P1) / n1) + ( P2 * (1 - P2) / n2 )\n",
    "stdDeviation = math.sqrt(stdValues)\n",
    "print('Standard deviation of the sample distribution is: ',stdDeviation)\n",
    "\n",
    "# To find this probability, we need to transform the random variable (p1 - p2) into a z-score.\n",
    "x = 0\n",
    "\n",
    "# zp = zp1 - p2 = (x - μp1 - p2) / σd = = (0 - 0.05)/0.0706 = -0.7082\n",
    "zp = (x - Ep1p2) / stdDeviation\n",
    "\n",
    "# Using Normal Distribution Calculator, we find P(z <=0.7082) = 0.24 the probability of a z-score being -0.7082 or less is 0.239\n",
    "prob = st.norm.cdf(zp)\n",
    "print('\\nProbability to get a greater percentage of Republican voters from the second state is: ', prob)"
   ]
  },
  {
   "cell_type": "code",
   "execution_count": 4,
   "metadata": {},
   "outputs": [
    {
     "name": "stdout",
     "output_type": "stream",
     "text": [
      "Z score result in the test is:  0.35406698564593303\n",
      "Percentage of people scored less than me is:  63.835565843531896\n",
      "\n",
      "My score is in the top:  36.164434156468104\n"
     ]
    }
   ],
   "source": [
    "# Problem Statement 3:\n",
    "# You take the SAT and score 1100. The mean score for the SAT is 1026 and the standard deviation is 209. How well did you score\n",
    "# on the test compared to the average test taker? \n",
    "\n",
    "# SAT Total Score x\n",
    "x = 1100\n",
    "\n",
    "# population mean\n",
    "m = 1026\n",
    "\n",
    "# Standard Deviation\n",
    "s = 209\n",
    "\n",
    "z = (x - m) / s\n",
    "print('Z score result in the test is: ', z)\n",
    "\n",
    "per = st.norm.cdf(z)\n",
    "\n",
    "print('Percentage of people scored less than me is: ', per*100)\n",
    "\n",
    "print('\\nMy score is in the top: ', (1-per)*100)"
   ]
  },
  {
   "cell_type": "code",
   "execution_count": null,
   "metadata": {},
   "outputs": [],
   "source": []
  }
 ],
 "metadata": {
  "kernelspec": {
   "display_name": "Python 3",
   "language": "python",
   "name": "python3"
  },
  "language_info": {
   "codemirror_mode": {
    "name": "ipython",
    "version": 3
   },
   "file_extension": ".py",
   "mimetype": "text/x-python",
   "name": "python",
   "nbconvert_exporter": "python",
   "pygments_lexer": "ipython3",
   "version": "3.6.6"
  }
 },
 "nbformat": 4,
 "nbformat_minor": 2
}
